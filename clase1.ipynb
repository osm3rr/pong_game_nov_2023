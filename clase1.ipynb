{
 "cells": [
  {
   "cell_type": "markdown",
   "metadata": {},
   "source": [
    "# Clase 1\n",
    "## Fundamentos de python\n",
    "\n",
    "#### Tópicos a tratar\n",
    "* Variables en python\n",
    "* Uso de python como calculadora\n",
    "* Sintaxis en python\n",
    "* Semántica de python\n",
    "* Condicionales\n",
    "    - Simples\n",
    "    - Anidados\n",
    "    - Encadenados\n",
    "* Ciclos finitos\n",
    "* Ciclos infinitos\n",
    "* Funciones"
   ]
  },
  {
   "cell_type": "markdown",
   "metadata": {},
   "source": []
  },
  {
   "cell_type": "code",
   "execution_count": 5,
   "metadata": {},
   "outputs": [
    {
     "data": {
      "text/plain": [
       "88"
      ]
     },
     "execution_count": 5,
     "metadata": {},
     "output_type": "execute_result"
    }
   ],
   "source": [
    "# comentarios\n",
    "#suma\n",
    "52 + 36\n"
   ]
  },
  {
   "cell_type": "code",
   "execution_count": 8,
   "metadata": {},
   "outputs": [
    {
     "data": {
      "text/plain": [
       "16"
      ]
     },
     "execution_count": 8,
     "metadata": {},
     "output_type": "execute_result"
    }
   ],
   "source": [
    "# restar\n",
    "52 - 36"
   ]
  },
  {
   "cell_type": "code",
   "execution_count": 9,
   "metadata": {},
   "outputs": [
    {
     "data": {
      "text/plain": [
       "1904"
      ]
     },
     "execution_count": 9,
     "metadata": {},
     "output_type": "execute_result"
    }
   ],
   "source": [
    "# mulplicador\n",
    "34 * 56"
   ]
  },
  {
   "cell_type": "code",
   "execution_count": 10,
   "metadata": {},
   "outputs": [
    {
     "data": {
      "text/plain": [
       "0.6222222222222222"
      ]
     },
     "execution_count": 10,
     "metadata": {},
     "output_type": "execute_result"
    }
   ],
   "source": [
    "# dividor\n",
    "56 / 90"
   ]
  },
  {
   "cell_type": "code",
   "execution_count": 11,
   "metadata": {},
   "outputs": [
    {
     "data": {
      "text/plain": [
       "8"
      ]
     },
     "execution_count": 11,
     "metadata": {},
     "output_type": "execute_result"
    }
   ],
   "source": [
    "10 + 2\n",
    "10 * 2\n",
    "10 - 2"
   ]
  },
  {
   "cell_type": "code",
   "execution_count": 13,
   "metadata": {},
   "outputs": [
    {
     "name": "stdout",
     "output_type": "stream",
     "text": [
      "12\n",
      "22\n",
      "32\n"
     ]
    }
   ],
   "source": [
    "print(10 + 2)\n",
    "print(20 + 2)\n",
    "print(30 + 2)"
   ]
  },
  {
   "cell_type": "code",
   "execution_count": 17,
   "metadata": {},
   "outputs": [
    {
     "name": "stdout",
     "output_type": "stream",
     "text": [
      "El resultado de la operación es: 30\n"
     ]
    }
   ],
   "source": [
    "# varibles\n",
    "variable_1 = 10\n",
    "variable_2 = 20\n",
    "\n",
    "suma_1 = variable_1 + variable_2\n",
    "print(f\"El resultado de la operación es: {suma_1}\")"
   ]
  },
  {
   "cell_type": "code",
   "execution_count": 18,
   "metadata": {},
   "outputs": [
    {
     "ename": "SyntaxError",
     "evalue": "invalid syntax (517908079.py, line 1)",
     "output_type": "error",
     "traceback": [
      "\u001b[1;36m  Cell \u001b[1;32mIn[18], line 1\u001b[1;36m\u001b[0m\n\u001b[1;33m    variable 3 = 30\u001b[0m\n\u001b[1;37m             ^\u001b[0m\n\u001b[1;31mSyntaxError\u001b[0m\u001b[1;31m:\u001b[0m invalid syntax\n"
     ]
    }
   ],
   "source": [
    "variable 3 = 30"
   ]
  },
  {
   "cell_type": "code",
   "execution_count": 19,
   "metadata": {},
   "outputs": [
    {
     "ename": "SyntaxError",
     "evalue": "invalid syntax (1856664930.py, line 1)",
     "output_type": "error",
     "traceback": [
      "\u001b[1;36m  Cell \u001b[1;32mIn[19], line 1\u001b[1;36m\u001b[0m\n\u001b[1;33m    variable.3 = 30\u001b[0m\n\u001b[1;37m            ^\u001b[0m\n\u001b[1;31mSyntaxError\u001b[0m\u001b[1;31m:\u001b[0m invalid syntax\n"
     ]
    }
   ],
   "source": [
    "variable.3 = 30"
   ]
  },
  {
   "cell_type": "code",
   "execution_count": 20,
   "metadata": {},
   "outputs": [
    {
     "ename": "SyntaxError",
     "evalue": "cannot assign to expression here. Maybe you meant '==' instead of '='? (103604413.py, line 1)",
     "output_type": "error",
     "traceback": [
      "\u001b[1;36m  Cell \u001b[1;32mIn[20], line 1\u001b[1;36m\u001b[0m\n\u001b[1;33m    variable*3 = 30\u001b[0m\n\u001b[1;37m    ^\u001b[0m\n\u001b[1;31mSyntaxError\u001b[0m\u001b[1;31m:\u001b[0m cannot assign to expression here. Maybe you meant '==' instead of '='?\n"
     ]
    }
   ],
   "source": [
    "variable*3 = 30"
   ]
  },
  {
   "cell_type": "code",
   "execution_count": 21,
   "metadata": {},
   "outputs": [],
   "source": [
    "Variable3 = 40"
   ]
  },
  {
   "cell_type": "code",
   "execution_count": 22,
   "metadata": {},
   "outputs": [],
   "source": [
    "PrimerNombre = \"Josefino\""
   ]
  },
  {
   "cell_type": "code",
   "execution_count": 23,
   "metadata": {},
   "outputs": [],
   "source": [
    "primer_nombre = \"Josefino\""
   ]
  },
  {
   "cell_type": "code",
   "execution_count": 25,
   "metadata": {},
   "outputs": [
    {
     "name": "stdout",
     "output_type": "stream",
     "text": [
      "10.0\n"
     ]
    }
   ],
   "source": [
    "qwert = 10\n",
    "asdfg = 2\n",
    "\n",
    "zxcv = (qwert * asdfg)/2\n",
    "\n",
    "print(zxcv)"
   ]
  },
  {
   "cell_type": "code",
   "execution_count": 45,
   "metadata": {},
   "outputs": [
    {
     "name": "stdout",
     "output_type": "stream",
     "text": [
      "Hola Javier\n",
      "Tu edad es: 6\n",
      "No eres mayor de edad.\n"
     ]
    }
   ],
   "source": [
    "# condicionales simples\n",
    "nombre = input(\"Ingrese su nombre: \")\n",
    "print(f\"Hola {nombre}\")\n",
    "\n",
    "edad = int(input(\"ingrese su edad: \"))\n",
    "print(f\"Tu edad es: {edad}\")\n",
    "\n",
    "# Comprobando una condición\n",
    "if edad >= 18:\n",
    "    print(\"Eres mayor de edad.\")\n",
    "\n",
    "else:\n",
    "    print(\"No eres mayor de edad.\")\n",
    "\n"
   ]
  },
  {
   "cell_type": "code",
   "execution_count": null,
   "metadata": {},
   "outputs": [],
   "source": [
    "# como resolver"
   ]
  },
  {
   "cell_type": "code",
   "execution_count": 35,
   "metadata": {},
   "outputs": [
    {
     "name": "stdout",
     "output_type": "stream",
     "text": [
      "<class 'str'>\n",
      "<class 'int'>\n",
      "<class 'float'>\n",
      "<class 'bool'>\n",
      "<class 'str'>\n",
      "<class 'int'>\n"
     ]
    }
   ],
   "source": [
    "# tipos de datos básicos\n",
    "print(type(PrimerNombre))\n",
    "print(type(variable_1))\n",
    "print(type(0.2))\n",
    "print(type(True))\n",
    "print(type(\"10\"))\n",
    "print(type(10))"
   ]
  },
  {
   "cell_type": "code",
   "execution_count": null,
   "metadata": {},
   "outputs": [],
   "source": [
    "age = "
   ]
  },
  {
   "cell_type": "code",
   "execution_count": 75,
   "metadata": {},
   "outputs": [
    {
     "name": "stdout",
     "output_type": "stream",
     "text": [
      "1010\n",
      "20\n"
     ]
    }
   ],
   "source": [
    "# Concatenación de cadenas\n",
    "print(\"10\" + \"10\")\n",
    "\n",
    "# Suma de dos enteros\n",
    "print(10 + 10)"
   ]
  },
  {
   "cell_type": "code",
   "execution_count": 55,
   "metadata": {},
   "outputs": [
    {
     "name": "stdout",
     "output_type": "stream",
     "text": [
      "No disponible\n"
     ]
    }
   ],
   "source": [
    "# Condicional encadenado\n",
    "\n",
    "# Solicita el sabor del helado\n",
    "helado = input(\"Ingresa el sabor del helado: \")\n",
    "\n",
    "# Comprueba el precio del helado\n",
    "if helado == \"fresa\":\n",
    "    print(\"PRECIO: 1.2$\")\n",
    "\n",
    "elif helado == \"chocolate\":\n",
    "    print(\"PRECIO: 1.5$\")\n",
    "\n",
    "elif helado == \"coco\":\n",
    "    print(\"PRECIO: 0.9$\")\n",
    "\n",
    "else:\n",
    "    print(\"No disponible\")\n"
   ]
  },
  {
   "cell_type": "code",
   "execution_count": 66,
   "metadata": {},
   "outputs": [
    {
     "name": "stdout",
     "output_type": "stream",
     "text": [
      "['cambur', 'patilla', 'mango', 'fresa', 'coco']\n",
      "<class 'list'>\n",
      "5\n",
      "cambur\n",
      "patilla\n",
      "mango\n",
      "fresa\n",
      "coco\n",
      "Listo.\n"
     ]
    }
   ],
   "source": [
    "# Ciclos finitos\n",
    "frutas = [\"cambur\", \"patilla\", \"mango\", \"fresa\", \"coco\" ]\n",
    "print(frutas)\n",
    "\n",
    "# Devuelve el tipo de datos\n",
    "print(type(frutas))\n",
    "\n",
    "# Devuelve la longitud de la lista\n",
    "print(len(frutas))\n",
    "\n",
    "# Implementando un ciclo finito\n",
    "for fruta in frutas:\n",
    "    print(fruta)\n",
    "    \n",
    "print(\"Listo.\")"
   ]
  },
  {
   "cell_type": "code",
   "execution_count": 72,
   "metadata": {},
   "outputs": [
    {
     "name": "stdout",
     "output_type": "stream",
     "text": [
      "Sigue intentando.\n",
      "Sigue intentando.\n",
      "Bienvenido\n"
     ]
    }
   ],
   "source": [
    "# Ciclo infinito\n",
    "control = True\n",
    "\n",
    "while control:\n",
    "    contraseña = int(input(\"Ingresa tu contraseña: \"))\n",
    "    if contraseña == 1234:\n",
    "        control = False\n",
    "        print(\"Bienvenido\")\n",
    "    else:\n",
    "        print(\"Sigue intentando.\")"
   ]
  },
  {
   "cell_type": "code",
   "execution_count": 2,
   "metadata": {},
   "outputs": [
    {
     "name": "stdout",
     "output_type": "stream",
     "text": [
      "El resultado de la suma es: 30.0\n"
     ]
    }
   ],
   "source": [
    "# funciones\n",
    "num_1 = input(\"ingrese número 1: \")\n",
    "num_1 = float(num_1)\n",
    "\n",
    "num_2 = input(\"ingrese el segundo número:\")\n",
    "num_2 = float(num_2)\n",
    "\n",
    "suma = num_1 + num_2\n",
    "\n",
    "print(f\"El resultado de la suma es: {suma}\")"
   ]
  },
  {
   "cell_type": "code",
   "execution_count": 3,
   "metadata": {},
   "outputs": [],
   "source": [
    "def suma_dos():\n",
    "    num_1 = input(\"ingrese número 1: \")\n",
    "    num_1 = float(num_1)\n",
    "\n",
    "    num_2 = input(\"ingrese el segundo número:\")\n",
    "    num_2 = float(num_2)\n",
    "    return print(f\"El resultado de la suma es: {suma}\")\n"
   ]
  },
  {
   "cell_type": "code",
   "execution_count": 4,
   "metadata": {},
   "outputs": [
    {
     "name": "stdout",
     "output_type": "stream",
     "text": [
      "El resultado de la suma es: 30.0\n"
     ]
    }
   ],
   "source": [
    "suma_dos()"
   ]
  },
  {
   "cell_type": "code",
   "execution_count": 5,
   "metadata": {},
   "outputs": [],
   "source": [
    "def suma_dos_v2(num_1, num_2):\n",
    "    suma = num_1 + num_2\n",
    "    return print(f\"El resultado de la suma es: {suma}\")"
   ]
  },
  {
   "cell_type": "code",
   "execution_count": 6,
   "metadata": {},
   "outputs": [
    {
     "name": "stdout",
     "output_type": "stream",
     "text": [
      "El resultado de la suma es: 3\n"
     ]
    }
   ],
   "source": [
    "suma_dos_v2(1,2)"
   ]
  },
  {
   "cell_type": "code",
   "execution_count": 8,
   "metadata": {},
   "outputs": [
    {
     "name": "stdout",
     "output_type": "stream",
     "text": [
      "El resultado de la suma es: 1.9000000000000001\n"
     ]
    }
   ],
   "source": [
    "suma_dos_v2(-1.2, 3.1)"
   ]
  },
  {
   "cell_type": "code",
   "execution_count": 9,
   "metadata": {},
   "outputs": [
    {
     "name": "stdout",
     "output_type": "stream",
     "text": [
      "\n"
     ]
    }
   ],
   "source": [
    "print()"
   ]
  }
 ],
 "metadata": {
  "kernelspec": {
   "display_name": "Python 3",
   "language": "python",
   "name": "python3"
  },
  "language_info": {
   "codemirror_mode": {
    "name": "ipython",
    "version": 3
   },
   "file_extension": ".py",
   "mimetype": "text/x-python",
   "name": "python",
   "nbconvert_exporter": "python",
   "pygments_lexer": "ipython3",
   "version": "3.12.0"
  }
 },
 "nbformat": 4,
 "nbformat_minor": 2
}
